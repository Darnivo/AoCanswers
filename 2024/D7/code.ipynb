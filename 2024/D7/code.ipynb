{
 "cells": [
  {
   "cell_type": "markdown",
   "metadata": {},
   "source": [
    "# P1"
   ]
  },
  {
   "cell_type": "code",
   "execution_count": 1,
   "metadata": {},
   "outputs": [
    {
     "name": "stdout",
     "output_type": "stream",
     "text": [
      "4122618559853\n"
     ]
    }
   ],
   "source": [
    "valid = 0\n",
    "\n",
    "with open('input.txt', 'r') as file:\n",
    "    for line in file:\n",
    "        res = line.strip().split(sep= \": \")\n",
    "        # print(res)\n",
    "        \n",
    "        expected_val = res[0]\n",
    "        inputs = res[1].split(sep= \" \")\n",
    "        \n",
    "        \n",
    "        # make all possible permutations of commands, 0 > *, 1 > +\n",
    "        amount_of_comms = len(inputs)-1\n",
    "        command_permutations = []\n",
    "        for i in range(2**amount_of_comms):\n",
    "            command_permutations.append(format(i, f'0{amount_of_comms}b'))\n",
    "        \n",
    "        # print(command_permutations)\n",
    "        \n",
    "        \n",
    "        \n",
    "        for perm in command_permutations:\n",
    "            sum_matches_expected = False\n",
    "            sum = int(inputs[0])\n",
    "            for i in range(amount_of_comms):\n",
    "                if perm[i] == '0':\n",
    "                    sum *= int(inputs[i+1])\n",
    "                else:\n",
    "                    sum += int(inputs[i+1])\n",
    "            \n",
    "            if sum == int(expected_val):\n",
    "                sum_matches_expected = True\n",
    "                # print(\"Found config = \", perm)\n",
    "                valid += sum\n",
    "                break\n",
    "\n",
    "print(valid)"
   ]
  },
  {
   "cell_type": "markdown",
   "metadata": {},
   "source": [
    "# P2"
   ]
  },
  {
   "cell_type": "code",
   "execution_count": 2,
   "metadata": {},
   "outputs": [],
   "source": [
    "from itertools import product"
   ]
  },
  {
   "cell_type": "code",
   "execution_count": 3,
   "metadata": {},
   "outputs": [
    {
     "name": "stdout",
     "output_type": "stream",
     "text": [
      "227615740238334\n"
     ]
    }
   ],
   "source": [
    "valid_p2 = 0\n",
    "\n",
    "def calc(op,a,b):\n",
    "    if op == '0':\n",
    "        return a*b\n",
    "    elif op == '1':\n",
    "        return a+b\n",
    "    elif op == '2':\n",
    "        return int(str(a) + str(b))\n",
    "\n",
    "with open('input.txt', 'r') as file:\n",
    "    for line in file:\n",
    "        res = line.strip().split(\": \")\n",
    "        expected_val = int(res[0])\n",
    "        inputs = list(map(int, res[1].split())) \n",
    "        \n",
    "        amount_of_comms = len(inputs)-1\n",
    "        \n",
    "        for ops in product(['0','1','2'], repeat=amount_of_comms):\n",
    "            res = inputs[0]\n",
    "            \n",
    "            for i in range(amount_of_comms):\n",
    "                res = calc(ops[i], res, inputs[i+1])\n",
    "                \n",
    "                if res > expected_val:\n",
    "                    break\n",
    "            else:\n",
    "                if res == expected_val:\n",
    "                    valid_p2 += expected_val\n",
    "                    break\n",
    "            \n",
    "print(valid_p2)\n"
   ]
  }
 ],
 "metadata": {
  "kernelspec": {
   "display_name": "Python 3",
   "language": "python",
   "name": "python3"
  },
  "language_info": {
   "codemirror_mode": {
    "name": "ipython",
    "version": 3
   },
   "file_extension": ".py",
   "mimetype": "text/x-python",
   "name": "python",
   "nbconvert_exporter": "python",
   "pygments_lexer": "ipython3",
   "version": "3.12.0"
  }
 },
 "nbformat": 4,
 "nbformat_minor": 2
}
