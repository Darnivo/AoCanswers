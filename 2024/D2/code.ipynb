{
 "cells": [
  {
   "cell_type": "markdown",
   "metadata": {},
   "source": [
    "# P1"
   ]
  },
  {
   "cell_type": "code",
   "execution_count": null,
   "metadata": {},
   "outputs": [],
   "source": [
    "Safe = 0\n",
    "\n",
    "with open('input.txt', 'r') as file:\n",
    "    for line in file:\n",
    "        nums = [int(num) for num in line.split()]\n",
    "        \n",
    "        \n",
    "        max_diff = max(abs(nums[i] - nums[i+1]) for i in range(len(nums) - 1))\n",
    "        min_diff = min(abs(nums[i] - nums[i+1]) for i in range(len(nums) - 1))\n",
    "        print(nums)\n",
    "        print(f\"{max_diff} - {min_diff}\")\n",
    "        \n",
    "        \n",
    "        if nums != sorted(nums) and nums != sorted(nums, reverse=True):\n",
    "            print(\"Not sorted\")\n",
    "            continue\n",
    "        \n",
    "        if max_diff < 4 and min_diff > 0:\n",
    "            Safe += 1\n",
    "            print(\"Safe\")\n",
    "print(\"\\n\",Safe)"
   ]
  },
  {
   "cell_type": "markdown",
   "metadata": {},
   "source": [
    "# P2"
   ]
  },
  {
   "cell_type": "code",
   "execution_count": null,
   "metadata": {},
   "outputs": [
    {
     "name": "stdout",
     "output_type": "stream",
     "text": [
      "566\n"
     ]
    }
   ],
   "source": [
    "Safe = 0\n",
    "\n",
    "with open('input.txt', 'r') as file:\n",
    "    for line in file:\n",
    "        nums = [int(num) for num in line.split()]\n",
    "\n",
    "        # Check for max and min diff# Check for diff\n",
    "        diffs = [abs(nums[i] - nums[i+1]) for i in range(len(nums) - 1)]\n",
    "        max_diff = max(diffs)\n",
    "        min_diff = min(diffs)\n",
    "\n",
    "        if nums == sorted(nums) or nums == sorted(nums, reverse=True):\n",
    "            if max_diff <= 3 and min_diff >= 1:\n",
    "                Safe += 1\n",
    "                continue\n",
    "        \n",
    "        # Check w/ removed\n",
    "        isSafe = False\n",
    "        for i in range(len(nums)):\n",
    "            numsRemoved = nums[:i] + nums[i+1:]\n",
    "            \n",
    "            #Check diff\n",
    "            diffs_removed = [abs(numsRemoved[j] - numsRemoved[j+1]) for j in range(len(numsRemoved) - 1)]\n",
    "            max_diff_removed = max(diffs_removed)\n",
    "            min_diff_removed = min(diffs_removed)\n",
    "\n",
    "            if numsRemoved == sorted(numsRemoved) or numsRemoved == sorted(numsRemoved, reverse=True):\n",
    "                if max_diff_removed <= 3 and min_diff_removed >= 1:\n",
    "                    isSafe = True\n",
    "                    break\n",
    "                \n",
    "        if isSafe:\n",
    "            Safe += 1\n",
    "\n",
    "print(Safe)\n"
   ]
  }
 ],
 "metadata": {
  "kernelspec": {
   "display_name": "Python 3",
   "language": "python",
   "name": "python3"
  },
  "language_info": {
   "codemirror_mode": {
    "name": "ipython",
    "version": 3
   },
   "file_extension": ".py",
   "mimetype": "text/x-python",
   "name": "python",
   "nbconvert_exporter": "python",
   "pygments_lexer": "ipython3",
   "version": "3.12.0"
  }
 },
 "nbformat": 4,
 "nbformat_minor": 2
}
