{
 "cells": [
  {
   "cell_type": "markdown",
   "metadata": {},
   "source": [
    "# P1"
   ]
  },
  {
   "cell_type": "code",
   "execution_count": 138,
   "metadata": {},
   "outputs": [],
   "source": [
    "import copy"
   ]
  },
  {
   "cell_type": "code",
   "execution_count": null,
   "metadata": {},
   "outputs": [],
   "source": [
    "res = []\n",
    "with open('input.txt', 'r') as file:\n",
    "    for line in file:\n",
    "        # res.append(line.strip()) \n",
    "        res.append(list(line.strip()))\n",
    "\n",
    "\n",
    "for line in res:\n",
    "    print(line)"
   ]
  },
  {
   "cell_type": "code",
   "execution_count": 140,
   "metadata": {},
   "outputs": [],
   "source": [
    "map_width = len(res[0])\n",
    "map_height = len(res)\n",
    "\n",
    "#find start (^)\n",
    "curr_pos = [(i, row.index('^')) for i, row in enumerate(res) if '^' in row][0]\n",
    "# 0 is up, 1 is right, 2 is down, 3 is left\n",
    "curr_dir = 0\n",
    "\n",
    "# print(curr_pos)\n",
    "# print(res[curr_pos[0]][curr_pos[1]])\n",
    "\n",
    "def get_next_pos(curr_pos, curr_dir):\n",
    "    if curr_dir == 0:\n",
    "        return (curr_pos[0] - 1, curr_pos[1])\n",
    "    if curr_dir == 1:\n",
    "        return (curr_pos[0], curr_pos[1] + 1)\n",
    "    if curr_dir == 2:\n",
    "        return (curr_pos[0] + 1, curr_pos[1])\n",
    "    if curr_dir == 3:\n",
    "        return (curr_pos[0], curr_pos[1] - 1)\n",
    "# print(get_next_pos(curr_pos, curr_dir))\n",
    "\n",
    "def check_out_of_bounds(pos):\n",
    "    if pos[0] < 0 or pos[0] >= map_height:\n",
    "        return False\n",
    "    if pos[1] < 0 or pos[1] >= map_width:\n",
    "        return False\n",
    "    return True #still in area\n",
    "\n",
    "# map_traverse = res.copy()\n",
    "map_traverse = copy.deepcopy(res)\n",
    "map_traverse[curr_pos[0]][curr_pos[1]] = 'X'\n",
    "\n",
    "next_pos = get_next_pos(curr_pos, curr_dir)\n",
    "while next_pos and check_out_of_bounds(next_pos):\n",
    "    if map_traverse[next_pos[0]][next_pos[1]] == '#': #found wall\n",
    "        #turn right\n",
    "        curr_dir = (curr_dir + 1) % 4\n",
    "    else:\n",
    "        curr_pos = next_pos\n",
    "        map_traverse[curr_pos[0]][curr_pos[1]] = 'X'\n",
    "    next_pos = get_next_pos(curr_pos, curr_dir)\n",
    "    "
   ]
  },
  {
   "cell_type": "code",
   "execution_count": null,
   "metadata": {},
   "outputs": [],
   "source": [
    "for line in map_traverse:\n",
    "    print(line)"
   ]
  },
  {
   "cell_type": "code",
   "execution_count": null,
   "metadata": {},
   "outputs": [],
   "source": [
    "for line in map_traverse:\n",
    "    print(''.join(line))"
   ]
  },
  {
   "cell_type": "code",
   "execution_count": 143,
   "metadata": {},
   "outputs": [
    {
     "name": "stdout",
     "output_type": "stream",
     "text": [
      "4883\n"
     ]
    }
   ],
   "source": [
    "amount = 0\n",
    "amount += sum([line.count('X') for line in map_traverse])   \n",
    "print(amount)"
   ]
  },
  {
   "cell_type": "markdown",
   "metadata": {},
   "source": [
    "# P2"
   ]
  },
  {
   "cell_type": "code",
   "execution_count": 144,
   "metadata": {},
   "outputs": [],
   "source": [
    "# Find candidates\n",
    "candidates = set()\n",
    "\n",
    "        # down      up     right   left\n",
    "dirs = [(-1, 0), (1, 0), (0, -1), (0, 1)]\n",
    "\n",
    "for x in range(map_height):\n",
    "        for y in range(map_width):\n",
    "            if map_traverse[x][y] == 'X':\n",
    "                candidates.add((x, y))\n",
    "                for dir_x,dir_y in dirs:\n",
    "                    new_x, new_y = x + dir_x, y + dir_y\n",
    "                    if 0 <= new_x < map_height and 0 <= new_y < map_width and map_traverse[new_x][new_y] != '#':\n",
    "                        candidates.add((new_x, new_y))\n"
   ]
  },
  {
   "cell_type": "code",
   "execution_count": null,
   "metadata": {},
   "outputs": [],
   "source": [
    "candidates"
   ]
  },
  {
   "cell_type": "code",
   "execution_count": null,
   "metadata": {},
   "outputs": [],
   "source": [
    "p2_map = copy.deepcopy(res)\n",
    "\n",
    "curr_pos_p2 = [(i, row.index('^')) for i, row in enumerate(p2_map) if '^' in row][0]\n",
    "# 0 is up, 1 is right, 2 is down, 3 is left\n",
    "curr_dir_p2 = 0\n",
    "\n",
    "sum_p2 = 0\n",
    "\n",
    "# for x in range(map_height):\n",
    "#     for y in range(map_width):\n",
    "#         if (x, y) in candidates:\n",
    "#             p2_map[x][y] = 'O'\n",
    "            \n",
    "for line in p2_map:\n",
    "    print(''.join(line))"
   ]
  },
  {
   "cell_type": "code",
   "execution_count": 147,
   "metadata": {},
   "outputs": [
    {
     "name": "stdout",
     "output_type": "stream",
     "text": [
      "1655\n"
     ]
    }
   ],
   "source": [
    "valid_stuck_pos = 0\n",
    "\n",
    "for x, y in candidates:\n",
    "    \n",
    "    if p2_map[x][y] == '^' or p2_map[x][y] == '#':\n",
    "        continue\n",
    "    \n",
    "    # Reset the map and position for each candidate\n",
    "    temp_map = copy.deepcopy(p2_map)\n",
    "    curr_pos_p2 = [(i, row.index('^')) for i, row in enumerate(temp_map) if '^' in row][0]\n",
    "    curr_dir_p2 = 0\n",
    "    \n",
    "    # Add wall\n",
    "    temp_map[x][y] = '#'\n",
    "\n",
    "    # for line in temp_map:\n",
    "    #     print(''.join(line))\n",
    "    # print()\n",
    "\n",
    "    visited = set()\n",
    "    next_pos_p2 = get_next_pos(curr_pos_p2, curr_dir_p2)\n",
    "    \n",
    "    while True:\n",
    "        # Add state\n",
    "        state = (curr_pos_p2, curr_dir_p2)\n",
    "        if state in visited:\n",
    "            valid_stuck_pos += 1 # Found a loop\n",
    "            break\n",
    "        visited.add(state)\n",
    "        \n",
    "        if not check_out_of_bounds(next_pos_p2):\n",
    "            break      # Not a loop\n",
    "        \n",
    "        # Continue traversal\n",
    "        if temp_map[next_pos_p2[0]][next_pos_p2[1]] == '#':\n",
    "            curr_dir_p2 = (curr_dir_p2 + 1) % 4\n",
    "        else:\n",
    "            curr_pos_p2 = next_pos_p2\n",
    "        next_pos_p2 = get_next_pos(curr_pos_p2, curr_dir_p2)\n",
    "        \n",
    "    temp_map[x][y] = '.' # Remove wall for next iter\n",
    "    \n",
    "print(valid_stuck_pos)"
   ]
  }
 ],
 "metadata": {
  "kernelspec": {
   "display_name": "Python 3",
   "language": "python",
   "name": "python3"
  },
  "language_info": {
   "codemirror_mode": {
    "name": "ipython",
    "version": 3
   },
   "file_extension": ".py",
   "mimetype": "text/x-python",
   "name": "python",
   "nbconvert_exporter": "python",
   "pygments_lexer": "ipython3",
   "version": "3.12.0"
  }
 },
 "nbformat": 4,
 "nbformat_minor": 2
}
