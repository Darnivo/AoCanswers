{
 "cells": [
  {
   "cell_type": "markdown",
   "metadata": {},
   "source": [
    "# P1"
   ]
  },
  {
   "cell_type": "code",
   "execution_count": 201,
   "metadata": {},
   "outputs": [],
   "source": [
    "map = []\n",
    "with open('input.txt', 'r') as file:\n",
    "    for line in file:\n",
    "        # res.append(line.strip()) \n",
    "        map.append(list(line.strip()))\n",
    "\n",
    "\n",
    "# for line in map:\n",
    "    # print(line)\n",
    "    # print(\" \".join(line))\n",
    "\n",
    "\n",
    "map_height = len(map)\n",
    "map_width = len(map[0])\n",
    "\n",
    "# print(map_height,\"x\",map_width)\n",
    "\n",
    "symbol_pos = {}\n",
    "\n",
    "for row, line in enumerate(map):\n",
    "    for col, symbol in enumerate(line):\n",
    "        if symbol != '.':\n",
    "            if symbol not in symbol_pos:\n",
    "                symbol_pos[symbol] = []\n",
    "            symbol_pos[symbol].append((row, col))\n",
    "            \n",
    "\n",
    "# for syms in symbol_pos:\n",
    "    # print(syms, symbol_pos[syms])         \n"
   ]
  },
  {
   "cell_type": "code",
   "execution_count": 202,
   "metadata": {},
   "outputs": [],
   "source": [
    "import pandas\n",
    "\n",
    "df = pandas.DataFrame(map)\n",
    "# df"
   ]
  },
  {
   "cell_type": "code",
   "execution_count": 203,
   "metadata": {},
   "outputs": [],
   "source": [
    "import itertools\n",
    "\n",
    "grid = [['.' for _ in range(map_height)] for _ in range(map_width)]\n",
    "\n",
    "for syms in symbol_pos:\n",
    "    permutations = itertools.combinations(symbol_pos[syms], 2)\n",
    "    # print(syms, list(permutations))\n",
    "    \n",
    "    for perms in permutations:\n",
    "        gap_x, gap_y = perms[0][0] - perms[1][0], perms[0][1] - perms[1][1]\n",
    "        candidate_1 = perms[0][0] + gap_x, perms[0][1] + gap_y\n",
    "        candidate_2 = perms[1][0] - gap_x, perms[1][1] - gap_y\n",
    "        \n",
    "        # print (perms,\"--\",candidate_1, candidate_2)\n",
    "        \n",
    "        if candidate_1[0] >= 0 and candidate_1[0] < map_height and candidate_1[1] >= 0 and candidate_1[1] < map_width:\n",
    "                grid[candidate_1[0]][candidate_1[1]] = '#'\n",
    "    \n",
    "        if candidate_2[0] >= 0 and candidate_2[0] < map_height and candidate_2[1] >= 0 and candidate_2[1] < map_width:\n",
    "                grid[candidate_2[0]][candidate_2[1]] = '#'\n",
    "    \n",
    "df = pandas.DataFrame(grid)\n",
    "# df"
   ]
  },
  {
   "cell_type": "code",
   "execution_count": null,
   "metadata": {},
   "outputs": [],
   "source": [
    "test_df = df.copy()\n",
    "\n",
    "for row in range(map_height):\n",
    "    for col in range(map_width):\n",
    "        if map[row][col] != '.':\n",
    "            test_df.iat[row, col] = map[row][col]\n",
    "\n",
    "# test_df\n",
    "\n",
    "print(test_df.to_string(index=False, header=False).replace(' ', ''))"
   ]
  },
  {
   "cell_type": "code",
   "execution_count": 205,
   "metadata": {},
   "outputs": [
    {
     "name": "stdout",
     "output_type": "stream",
     "text": [
      "299\n"
     ]
    }
   ],
   "source": [
    "# Count all # in grid\n",
    "count = 0\n",
    "for row in range(map_height):\n",
    "    for col in range(map_width):\n",
    "        if grid[row][col] == '#':\n",
    "            count += 1\n",
    "print (count)"
   ]
  },
  {
   "cell_type": "code",
   "execution_count": 206,
   "metadata": {},
   "outputs": [],
   "source": [
    "# Note:\n",
    "# 1. Antennas / freq -> the symbols\n",
    "# 2. Antinode -> #\n",
    "# #---n units---Antenna 1---n units---Antinode---2n units---Antenna 2---n units---#  \n"
   ]
  },
  {
   "cell_type": "markdown",
   "metadata": {},
   "source": [
    "# P2"
   ]
  },
  {
   "cell_type": "code",
   "execution_count": 207,
   "metadata": {},
   "outputs": [],
   "source": [
    "grid_p2 = [['.' for _ in range(map_height)] for _ in range(map_width)]\n",
    "\n",
    "for syms in symbol_pos:\n",
    "\n",
    "    if len(symbol_pos[syms]) > 1:\n",
    "        for antenna in symbol_pos[syms]:\n",
    "            grid_p2[antenna[0]][antenna[1]] = '#'\n",
    "\n",
    "    permutations = itertools.combinations(symbol_pos[syms], 2)\n",
    "    # print(syms, list(permutations))\n",
    "    \n",
    "    for perms in permutations:\n",
    "        gap_x, gap_y = perms[0][0] - perms[1][0], perms[0][1] - perms[1][1]\n",
    "        candidate_1 = perms[0][0] + gap_x, perms[0][1] + gap_y\n",
    "        candidate_2 = perms[1][0] - gap_x, perms[1][1] - gap_y\n",
    "        \n",
    "        # print (perms,\"--\",candidate_1, candidate_2)\n",
    "        \n",
    "        while candidate_1[0] >= 0 and candidate_1[0] < map_height and candidate_1[1] >= 0 and candidate_1[1] < map_width:\n",
    "                grid_p2[candidate_1[0]][candidate_1[1]] = '#'\n",
    "                candidate_1 = candidate_1[0] + gap_x, candidate_1[1] + gap_y\n",
    "    \n",
    "        while candidate_2[0] >= 0 and candidate_2[0] < map_height and candidate_2[1] >= 0 and candidate_2[1] < map_width:\n",
    "                grid_p2[candidate_2[0]][candidate_2[1]] = '#'\n",
    "                candidate_2 = candidate_2[0] - gap_x, candidate_2[1] - gap_y\n",
    "                \n",
    "df = pandas.DataFrame(grid_p2)"
   ]
  },
  {
   "cell_type": "code",
   "execution_count": 208,
   "metadata": {},
   "outputs": [],
   "source": [
    "test_df = df.copy()\n",
    "\n",
    "for row in range(map_height):\n",
    "    for col in range(map_width):\n",
    "        if map[row][col] != '.':\n",
    "            test_df.iat[row, col] = map[row][col]\n",
    "\n",
    "# test_df\n",
    "\n",
    "# print(test_df.to_string(index=False, header=False).replace(' ', ''))"
   ]
  },
  {
   "cell_type": "code",
   "execution_count": 209,
   "metadata": {},
   "outputs": [
    {
     "name": "stdout",
     "output_type": "stream",
     "text": [
      "1032\n"
     ]
    }
   ],
   "source": [
    "# Count all # in grid\n",
    "count = 0\n",
    "for row in range(map_height):\n",
    "    for col in range(map_width):\n",
    "        if grid_p2[row][col] == '#':\n",
    "            count += 1\n",
    "print (count)"
   ]
  }
 ],
 "metadata": {
  "kernelspec": {
   "display_name": "Python 3",
   "language": "python",
   "name": "python3"
  },
  "language_info": {
   "codemirror_mode": {
    "name": "ipython",
    "version": 3
   },
   "file_extension": ".py",
   "mimetype": "text/x-python",
   "name": "python",
   "nbconvert_exporter": "python",
   "pygments_lexer": "ipython3",
   "version": "3.12.0"
  }
 },
 "nbformat": 4,
 "nbformat_minor": 2
}
