{
 "cells": [
  {
   "cell_type": "markdown",
   "metadata": {},
   "source": [
    "# P1"
   ]
  },
  {
   "cell_type": "code",
   "execution_count": 10,
   "metadata": {},
   "outputs": [],
   "source": [
    "import re"
   ]
  },
  {
   "cell_type": "code",
   "execution_count": 130,
   "metadata": {},
   "outputs": [],
   "source": [
    "res = []\n",
    "with open('input.txt', 'r') as file:\n",
    "    for line in file:\n",
    "        res.append(line.strip())  # strip() to remove any trailing newline characters"
   ]
  },
  {
   "cell_type": "code",
   "execution_count": null,
   "metadata": {},
   "outputs": [],
   "source": [
    "res"
   ]
  },
  {
   "cell_type": "code",
   "execution_count": 132,
   "metadata": {},
   "outputs": [
    {
     "name": "stdout",
     "output_type": "stream",
     "text": [
      "140 x 140\n"
     ]
    }
   ],
   "source": [
    "row_len = len(res[0])\n",
    "row_num = len(res)\n",
    "\n",
    "print(row_len,\"x\",row_num)"
   ]
  },
  {
   "cell_type": "code",
   "execution_count": 133,
   "metadata": {},
   "outputs": [
    {
     "name": "stdout",
     "output_type": "stream",
     "text": [
      "2545\n"
     ]
    }
   ],
   "source": [
    "sum = 0\n",
    "# Counting occurences of xmas: horizontal, vertical, diagonal,  and even written backwards\n",
    "for x in range(row_num):\n",
    "    \n",
    "    # Counting horizontal\n",
    "    sum += res[x].count('XMAS')\n",
    "    sum += res[x][::-1].count('XMAS')\n",
    "    \n",
    "    for y in range(row_len):\n",
    "        if x+3 < row_num:\n",
    "            # Counting vertical\n",
    "            text_down = str(res[x][y] + res[x+1][y] + res[x+2][y] + res[x+3][y])\n",
    "            \n",
    "            if text_down == 'XMAS': #down\n",
    "                sum += 1\n",
    "            if text_down == 'SAMX': #down-rev\n",
    "                sum += 1\n",
    "            # if text_up == 'XMAS': #up \n",
    "            #     sum += 1\n",
    "            # if text_up == 'SAMX': #up-rev\n",
    "            #     sum += 1    \n",
    "            \n",
    "            # Counting diagonal  \n",
    "            if y+3 < row_len:\n",
    "                text_diag = str(res[x][y] + res[x+1][y+1] + res[x+2][y+2] + res[x+3][y+3])\n",
    "                if text_diag == 'XMAS':\n",
    "                    sum += 1\n",
    "                if text_diag == 'SAMX':\n",
    "                    sum += 1\n",
    "            if y-3 >= 0:\n",
    "                text_diag_rev = str(res[x][y] + res[x+1][y-1] + res[x+2][y-2] + res[x+3][y-3])\n",
    "                if text_diag_rev == 'XMAS':\n",
    "                    sum += 1\n",
    "                if text_diag_rev == 'SAMX':\n",
    "                    sum += 1\n",
    "            \n",
    "                    \n",
    "\n",
    "print(sum)"
   ]
  },
  {
   "cell_type": "code",
   "execution_count": null,
   "metadata": {},
   "outputs": [],
   "source": [
    "# test\n",
    "\n",
    "res_2d = [list(line) for line in res]\n",
    "for rows in res_2d:\n",
    "    print(rows)"
   ]
  },
  {
   "cell_type": "markdown",
   "metadata": {},
   "source": [
    "# P2"
   ]
  },
  {
   "cell_type": "code",
   "execution_count": 135,
   "metadata": {},
   "outputs": [
    {
     "name": "stdout",
     "output_type": "stream",
     "text": [
      "1886\n"
     ]
    }
   ],
   "source": [
    "sum2 = 0\n",
    "for x in range(row_num):\n",
    "    for y in range(row_len):\n",
    "        if x == 0 or x == row_num - 1 or y < 1 or y == row_len - 1:\n",
    "            continue\n",
    "        else:\n",
    "            text = str(res[x-1][y-1] + res[x-1][y+1] + res[x][y] + res[x+1][y-1] + res[x+1][y+1])\n",
    "            # if '.' not in text:\n",
    "                # print(text)\n",
    "            if text == 'MMASS' or text == 'SSAMM' or text == 'MSAMS' or text == 'SMASM':\n",
    "                sum2 += 1\n",
    "print(sum2)\n"
   ]
  }
 ],
 "metadata": {
  "kernelspec": {
   "display_name": "Python 3",
   "language": "python",
   "name": "python3"
  },
  "language_info": {
   "codemirror_mode": {
    "name": "ipython",
    "version": 3
   },
   "file_extension": ".py",
   "mimetype": "text/x-python",
   "name": "python",
   "nbconvert_exporter": "python",
   "pygments_lexer": "ipython3",
   "version": "3.12.0"
  }
 },
 "nbformat": 4,
 "nbformat_minor": 2
}
