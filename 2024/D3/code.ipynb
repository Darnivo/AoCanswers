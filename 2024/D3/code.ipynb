{
 "cells": [
  {
   "cell_type": "markdown",
   "metadata": {},
   "source": [
    "# P1"
   ]
  },
  {
   "cell_type": "code",
   "execution_count": 1,
   "metadata": {},
   "outputs": [],
   "source": [
    "import re"
   ]
  },
  {
   "cell_type": "code",
   "execution_count": 5,
   "metadata": {},
   "outputs": [],
   "source": [
    "res = []\n",
    "with open('input.txt', 'r') as file:\n",
    "    for line in file:\n",
    "        matches = re.findall(r'mul\\((\\d{1,3}),(\\d{1,3})\\)', line)\n",
    "        res.extend(matches)"
   ]
  },
  {
   "cell_type": "code",
   "execution_count": null,
   "metadata": {},
   "outputs": [],
   "source": [
    "print(res)\n",
    "total_sum = sum(int(x) * int(y) for x, y in res)"
   ]
  },
  {
   "cell_type": "code",
   "execution_count": 7,
   "metadata": {},
   "outputs": [
    {
     "name": "stdout",
     "output_type": "stream",
     "text": [
      "184511516\n"
     ]
    }
   ],
   "source": [
    "print(total_sum)"
   ]
  },
  {
   "cell_type": "markdown",
   "metadata": {},
   "source": [
    "# P2"
   ]
  },
  {
   "cell_type": "code",
   "execution_count": 57,
   "metadata": {},
   "outputs": [],
   "source": [
    "Comb_string = \"\"\n",
    "with open('input.txt', 'r') as file:\n",
    "    for line in file:\n",
    "        Comb_string += line"
   ]
  },
  {
   "cell_type": "code",
   "execution_count": null,
   "metadata": {},
   "outputs": [],
   "source": [
    "is_enabled = True  # Allow mull\n",
    "total_sum2 = 0"
   ]
  },
  {
   "cell_type": "code",
   "execution_count": null,
   "metadata": {},
   "outputs": [],
   "source": [
    "i = 0\n",
    "while i < len(Comb_string):\n",
    "    # Check for pattern\n",
    "    match = re.match(r'mul\\((\\d{1,3}),(\\d{1,3})\\)', Comb_string[i:])\n",
    "    if match:\n",
    "        # Add if yes\n",
    "        if is_enabled:\n",
    "            x, y = match.groups()\n",
    "            total_sum2 += int(x) * int(y)\n",
    "        #skip iteration\n",
    "        i += len(match.group(0))\n",
    "    # Check for do and dont\n",
    "    elif Comb_string[i:i+5] == \"don't\":\n",
    "        is_enabled = False  \n",
    "        i += 5\n",
    "    elif Comb_string[i:i+2] == \"do\":\n",
    "        is_enabled = True\n",
    "        i += 2\n",
    "    else:\n",
    "        #skip if no match\n",
    "        i += 1"
   ]
  },
  {
   "cell_type": "code",
   "execution_count": null,
   "metadata": {},
   "outputs": [
    {
     "name": "stdout",
     "output_type": "stream",
     "text": [
      "90044227\n"
     ]
    }
   ],
   "source": [
    "print(total_sum2)"
   ]
  }
 ],
 "metadata": {
  "kernelspec": {
   "display_name": "Python 3",
   "language": "python",
   "name": "python3"
  },
  "language_info": {
   "codemirror_mode": {
    "name": "ipython",
    "version": 3
   },
   "file_extension": ".py",
   "mimetype": "text/x-python",
   "name": "python",
   "nbconvert_exporter": "python",
   "pygments_lexer": "ipython3",
   "version": "3.12.0"
  }
 },
 "nbformat": 4,
 "nbformat_minor": 2
}
