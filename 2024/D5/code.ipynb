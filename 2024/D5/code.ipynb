{
 "cells": [
  {
   "cell_type": "markdown",
   "metadata": {},
   "source": [
    "# P1"
   ]
  },
  {
   "cell_type": "code",
   "execution_count": null,
   "metadata": {},
   "outputs": [],
   "source": [
    "rules = []\n",
    "pageNum = []\n",
    "changeRead = False\n",
    "\n",
    "with open('test.txt', 'r') as file:\n",
    "    for line in file:\n",
    "        # print(line.strip())\n",
    "        if line == \"\\n\":\n",
    "            changeRead = True\n",
    "            continue\n",
    "        \n",
    "        if not changeRead:  #put all rules into rules list\n",
    "            rules.append([int(x) for x in line.strip().split(sep='|')])\n",
    "        else:\n",
    "            pageNum.append([int(x) for x in line.strip().split(sep=',')])\n",
    "        # print(line.strip().split(sep='|'))\n",
    "\n",
    "for rule in rules:\n",
    "    print(rule)\n",
    "print(\"\")\n",
    "for page in pageNum:\n",
    "    print(page)\n"
   ]
  },
  {
   "cell_type": "code",
   "execution_count": null,
   "metadata": {},
   "outputs": [],
   "source": [
    "ValidFlag = [True for x in range(len(pageNum))]\n",
    "ValidFlag"
   ]
  },
  {
   "cell_type": "code",
   "execution_count": null,
   "metadata": {},
   "outputs": [],
   "source": [
    "for page in pageNum:\n",
    "    for rule in rules:\n",
    "        if set(rule).issubset(set(page)):\n",
    "            # print(rule, \"is in\", page)\n",
    "            FirstN = rule[0]\n",
    "            LastN = rule[1]\n",
    "            \n",
    "            if page.index(FirstN) > page.index(LastN):\n",
    "                ValidFlag[pageNum.index(page)] = False\n",
    "                break\n",
    "    if ValidFlag[pageNum.index(page)]:\n",
    "        print(page, \"is valid\")\n",
    "    else:\n",
    "        print(page, \"is invalid\")"
   ]
  },
  {
   "cell_type": "code",
   "execution_count": 75,
   "metadata": {},
   "outputs": [
    {
     "name": "stdout",
     "output_type": "stream",
     "text": [
      "143\n"
     ]
    }
   ],
   "source": [
    "sum = 0\n",
    "for page in pageNum:\n",
    "    if ValidFlag[pageNum.index(page)]:\n",
    "        # add val page from middle \n",
    "       sum += page[len(page)//2]\n",
    "    \n",
    "print(sum)"
   ]
  },
  {
   "cell_type": "markdown",
   "metadata": {},
   "source": [
    "# P2"
   ]
  },
  {
   "cell_type": "code",
   "execution_count": null,
   "metadata": {},
   "outputs": [],
   "source": [
    "InvalidPages = [pageNum[x] for x in range(len(pageNum)) if not ValidFlag[x]]\n",
    "for page in InvalidPages:\n",
    "    print(page)"
   ]
  },
  {
   "cell_type": "code",
   "execution_count": null,
   "metadata": {},
   "outputs": [],
   "source": [
    "from collections import defaultdict, deque\n",
    "\n",
    "# Esentially Kahn’s algo\n",
    "\n",
    "def topological_sort(pages, rules):\n",
    "    # Build the graph\n",
    "    graph = defaultdict(list)\n",
    "    indegree = defaultdict(int)\n",
    "    pages_set = set(pages)\n",
    "    \n",
    "    for x, y in rules:\n",
    "        if x in pages_set and y in pages_set:  # Filter irrelevant\n",
    "            graph[x].append(y)\n",
    "            indegree[y] += 1\n",
    "    \n",
    "    queue = deque([page for page in pages if indegree[page] == 0])\n",
    "    sorted_pages = []\n",
    "    \n",
    "    while queue:\n",
    "        current = queue.popleft()\n",
    "        sorted_pages.append(current)\n",
    "        for neighbor in graph[current]:\n",
    "            indegree[neighbor] -= 1\n",
    "            if indegree[neighbor] == 0:\n",
    "                queue.append(neighbor)\n",
    "    \n",
    "    return sorted_pages"
   ]
  },
  {
   "cell_type": "code",
   "execution_count": 78,
   "metadata": {},
   "outputs": [
    {
     "name": "stdout",
     "output_type": "stream",
     "text": [
      "[75, 97, 47, 61, 53] -- [97, 75, 47, 61, 53]\n",
      "[61, 13, 29] -- [61, 29, 13]\n",
      "[97, 13, 75, 29, 47] -- [97, 75, 47, 29, 13]\n",
      "123\n"
     ]
    }
   ],
   "source": [
    "corrected_invalid_sum = 0\n",
    "\n",
    "for page in InvalidPages:\n",
    "    # Topo sort the page\n",
    "    corrected_page = topological_sort(page, rules)\n",
    "    \n",
    "    print(page,\"--\",corrected_page)\n",
    "    # Get the middle page number after reordering\n",
    "    corrected_invalid_sum += corrected_page[len(corrected_page) // 2]\n",
    "\n",
    "print(corrected_invalid_sum)"
   ]
  }
 ],
 "metadata": {
  "kernelspec": {
   "display_name": "Python 3",
   "language": "python",
   "name": "python3"
  },
  "language_info": {
   "codemirror_mode": {
    "name": "ipython",
    "version": 3
   },
   "file_extension": ".py",
   "mimetype": "text/x-python",
   "name": "python",
   "nbconvert_exporter": "python",
   "pygments_lexer": "ipython3",
   "version": "3.12.0"
  }
 },
 "nbformat": 4,
 "nbformat_minor": 2
}
