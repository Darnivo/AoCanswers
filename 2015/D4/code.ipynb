{
 "cells": [
  {
   "cell_type": "markdown",
   "metadata": {},
   "source": [
    "# P1"
   ]
  },
  {
   "cell_type": "code",
   "execution_count": 1,
   "metadata": {},
   "outputs": [],
   "source": [
    "import hashlib"
   ]
  },
  {
   "cell_type": "code",
   "execution_count": 3,
   "metadata": {},
   "outputs": [
    {
     "name": "stdout",
     "output_type": "stream",
     "text": [
      "117946\n"
     ]
    }
   ],
   "source": [
    "input_str = \"\"\n",
    "\n",
    "with open('input.txt', 'r') as file:\n",
    "    input_str += file.readline().strip()\n",
    "    \n",
    "num = 1\n",
    "found = False\n",
    "\n",
    "while not found:\n",
    "    hash = hashlib.md5((input_str + str(num)).encode()).hexdigest()\n",
    "    if hash[:5] == \"00000\":\n",
    "        found = True\n",
    "    else:\n",
    "        num += 1\n",
    "        \n",
    "print(num)"
   ]
  },
  {
   "cell_type": "markdown",
   "metadata": {},
   "source": [
    "# P2"
   ]
  },
  {
   "cell_type": "code",
   "execution_count": 4,
   "metadata": {},
   "outputs": [
    {
     "name": "stdout",
     "output_type": "stream",
     "text": [
      "3938038\n"
     ]
    }
   ],
   "source": [
    "num_p2 = 1\n",
    "found = False\n",
    "while not found:\n",
    "    hash = hashlib.md5((input_str + str(num_p2)).encode()).hexdigest()\n",
    "    if hash[:6] == \"000000\":\n",
    "        found = True\n",
    "    else:\n",
    "        num_p2 += 1\n",
    "print(num_p2)"
   ]
  }
 ],
 "metadata": {
  "kernelspec": {
   "display_name": "Python 3",
   "language": "python",
   "name": "python3"
  },
  "language_info": {
   "codemirror_mode": {
    "name": "ipython",
    "version": 3
   },
   "file_extension": ".py",
   "mimetype": "text/x-python",
   "name": "python",
   "nbconvert_exporter": "python",
   "pygments_lexer": "ipython3",
   "version": "3.12.0"
  }
 },
 "nbformat": 4,
 "nbformat_minor": 2
}
