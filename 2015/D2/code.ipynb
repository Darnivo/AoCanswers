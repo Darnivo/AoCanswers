{
 "cells": [
  {
   "cell_type": "markdown",
   "metadata": {},
   "source": [
    "# P1"
   ]
  },
  {
   "cell_type": "code",
   "execution_count": 1,
   "metadata": {},
   "outputs": [],
   "source": [
    "import re"
   ]
  },
  {
   "cell_type": "code",
   "execution_count": 14,
   "metadata": {},
   "outputs": [],
   "source": [
    "res = []\n",
    "with open('input.txt', 'r') as file:\n",
    "    for line in file:\n",
    "        matches = re.findall(r'(\\d+)x(\\d+)x(\\d+)', line)\n",
    "        res.extend(matches)"
   ]
  },
  {
   "cell_type": "code",
   "execution_count": null,
   "metadata": {},
   "outputs": [],
   "source": [
    "print(res)"
   ]
  },
  {
   "cell_type": "code",
   "execution_count": 19,
   "metadata": {},
   "outputs": [
    {
     "name": "stdout",
     "output_type": "stream",
     "text": [
      "1586300\n"
     ]
    }
   ],
   "source": [
    "total = 0\n",
    "\n",
    "for l, w, h in res:\n",
    "    l = int(l)\n",
    "    w = int(w)\n",
    "    h = int(h)\n",
    "    \n",
    "    result = 2*l*w + 2*w*h + 2*h*l + min(l*w, w*h, h*l)\n",
    "    total += result\n",
    "\n",
    "print(total)"
   ]
  },
  {
   "cell_type": "markdown",
   "metadata": {},
   "source": [
    "# P2"
   ]
  },
  {
   "cell_type": "code",
   "execution_count": 22,
   "metadata": {},
   "outputs": [
    {
     "name": "stdout",
     "output_type": "stream",
     "text": [
      "3737498\n"
     ]
    }
   ],
   "source": [
    "total2 = 0\n",
    "\n",
    "for l, w, h in res:\n",
    "    l = int(l)\n",
    "    w = int(w)\n",
    "    h = int(h)\n",
    "    \n",
    "    result2 = 2*min(l+w,l+h,w+h) + l*w*h\n",
    "    total2 += result2\n",
    "\n",
    "print(total2)"
   ]
  }
 ],
 "metadata": {
  "kernelspec": {
   "display_name": "Python 3",
   "language": "python",
   "name": "python3"
  },
  "language_info": {
   "codemirror_mode": {
    "name": "ipython",
    "version": 3
   },
   "file_extension": ".py",
   "mimetype": "text/x-python",
   "name": "python",
   "nbconvert_exporter": "python",
   "pygments_lexer": "ipython3",
   "version": "3.12.0"
  }
 },
 "nbformat": 4,
 "nbformat_minor": 2
}
