{
 "cells": [
  {
   "cell_type": "markdown",
   "metadata": {},
   "source": [
    "# P1"
   ]
  },
  {
   "cell_type": "code",
   "execution_count": 29,
   "metadata": {},
   "outputs": [
    {
     "name": "stdout",
     "output_type": "stream",
     "text": [
      "2592\n"
     ]
    }
   ],
   "source": [
    "str = \"\"\n",
    "\n",
    "with open('input.txt', 'r') as file:\n",
    "    str += file.readline().strip()\n",
    "\n",
    "locations = []\n",
    "\n",
    "locations.append((0, 0))\n",
    "\n",
    "curr_location = (0, 0)\n",
    "for commands in str:\n",
    "    if commands == '^':\n",
    "        curr_location = (curr_location[0], curr_location[1] + 1)\n",
    "    elif commands == 'v':\n",
    "        curr_location = (curr_location[0], curr_location[1] - 1)\n",
    "    elif commands == '>':\n",
    "        curr_location = (curr_location[0] + 1, curr_location[1])\n",
    "    elif commands == '<':\n",
    "        curr_location = (curr_location[0] - 1, curr_location[1])\n",
    "        \n",
    "    if curr_location not in locations:\n",
    "        locations.append(curr_location)\n",
    "        \n",
    "# print(locations)\n",
    "print(len(locations))"
   ]
  },
  {
   "cell_type": "markdown",
   "metadata": {},
   "source": [
    "# P2"
   ]
  },
  {
   "cell_type": "code",
   "execution_count": 31,
   "metadata": {},
   "outputs": [
    {
     "name": "stdout",
     "output_type": "stream",
     "text": [
      "2360\n"
     ]
    }
   ],
   "source": [
    "locations_p2 = []\n",
    "locations_p2.append((0, 0))\n",
    "\n",
    "og_santa_loc = (0, 0)\n",
    "rb_santa_loc = (0, 0)\n",
    "\n",
    "for i, commands in enumerate(str):\n",
    "    if i % 2 == 0:\n",
    "        # original\n",
    "        if commands == '^':\n",
    "            og_santa_loc = (og_santa_loc[0], og_santa_loc[1] + 1)\n",
    "        elif commands == 'v':\n",
    "            og_santa_loc = (og_santa_loc[0], og_santa_loc[1] - 1)\n",
    "        elif commands == '>':\n",
    "            og_santa_loc = (og_santa_loc[0] + 1, og_santa_loc[1])\n",
    "        elif commands == '<':\n",
    "            og_santa_loc = (og_santa_loc[0] - 1, og_santa_loc[1])\n",
    "            \n",
    "        if og_santa_loc not in locations_p2:\n",
    "            locations_p2.append(og_santa_loc)\n",
    "        \n",
    "    else:\n",
    "        # robot\n",
    "        if commands == '^':\n",
    "            rb_santa_loc = (rb_santa_loc[0], rb_santa_loc[1] + 1)\n",
    "        elif commands == 'v':\n",
    "            rb_santa_loc = (rb_santa_loc[0], rb_santa_loc[1] - 1)\n",
    "        elif commands == '>':\n",
    "            rb_santa_loc = (rb_santa_loc[0] + 1, rb_santa_loc[1])\n",
    "        elif commands == '<':\n",
    "            rb_santa_loc = (rb_santa_loc[0] - 1, rb_santa_loc[1])\n",
    "\n",
    "        if rb_santa_loc not in locations_p2:\n",
    "            locations_p2.append(rb_santa_loc)\n",
    "\n",
    "# print(locations_p2)\n",
    "print(len(locations_p2))"
   ]
  }
 ],
 "metadata": {
  "kernelspec": {
   "display_name": "Python 3",
   "language": "python",
   "name": "python3"
  },
  "language_info": {
   "codemirror_mode": {
    "name": "ipython",
    "version": 3
   },
   "file_extension": ".py",
   "mimetype": "text/x-python",
   "name": "python",
   "nbconvert_exporter": "python",
   "pygments_lexer": "ipython3",
   "version": "3.12.0"
  }
 },
 "nbformat": 4,
 "nbformat_minor": 2
}
