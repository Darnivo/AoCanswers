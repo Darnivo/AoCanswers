{
 "cells": [
  {
   "cell_type": "markdown",
   "metadata": {},
   "source": [
    "# P1"
   ]
  },
  {
   "cell_type": "code",
   "execution_count": 1,
   "metadata": {},
   "outputs": [],
   "source": [
    "import re"
   ]
  },
  {
   "cell_type": "code",
   "execution_count": 36,
   "metadata": {},
   "outputs": [
    {
     "name": "stdout",
     "output_type": "stream",
     "text": [
      "1350\n"
     ]
    }
   ],
   "source": [
    "sum = 0\n",
    "\n",
    "with open('input.txt') as file:\n",
    "    for lines in file:\n",
    "        sent = lines.strip()\n",
    "        \n",
    "        # print(sent, end=\" -> \")\n",
    "        \n",
    "        original_len = len(sent)\n",
    "        \n",
    "        sent = sent[1:-1] \n",
    "        \n",
    "        sent = re.sub(r'\\\\x[0-9a-fA-F]{2}', 'X', sent)\n",
    "        \n",
    "        sent = sent.replace(r'\\\\', '\\\\')\n",
    "        \n",
    "        sent = sent.replace(r'\\\"', '\"') \n",
    "        \n",
    "        \n",
    "        \n",
    "        new_len = len(sent)\n",
    "        \n",
    "        # print(sent, \"--\", original_len, \"->\", new_len)\n",
    "        \n",
    "        sum = sum + (original_len - new_len)\n",
    "        \n",
    "print(sum)"
   ]
  },
  {
   "cell_type": "markdown",
   "metadata": {},
   "source": [
    "# P2"
   ]
  },
  {
   "cell_type": "code",
   "execution_count": 72,
   "metadata": {},
   "outputs": [
    {
     "name": "stdout",
     "output_type": "stream",
     "text": [
      "2085\n"
     ]
    }
   ],
   "source": [
    "sum_p2 = 0\n",
    "\n",
    "with open('input.txt') as file:\n",
    "    for line in file:\n",
    "        sent = line.strip()\n",
    "        \n",
    "        # print(sent, end=\" -> \")\n",
    "        \n",
    "        original_len = len(sent)\n",
    "        \n",
    "        # change \\ > \\\\\n",
    "        sent = sent.replace(\"\\\\\", \"\\\\\\\\\")\n",
    "        # cahnge \" >h \\\"\n",
    "        sent = sent.replace('\"', '\\\\\"')\n",
    "        \n",
    "        # account for the start\n",
    "        new_len = len(sent) + 2\n",
    "        \n",
    "        sum_p2 += new_len - original_len\n",
    "        \n",
    "        # print(sent, \"--\", original_len, \"->\", new_len)\n",
    "        \n",
    "print(sum_p2)"
   ]
  }
 ],
 "metadata": {
  "kernelspec": {
   "display_name": "Python 3",
   "language": "python",
   "name": "python3"
  },
  "language_info": {
   "codemirror_mode": {
    "name": "ipython",
    "version": 3
   },
   "file_extension": ".py",
   "mimetype": "text/x-python",
   "name": "python",
   "nbconvert_exporter": "python",
   "pygments_lexer": "ipython3",
   "version": "3.12.0"
  }
 },
 "nbformat": 4,
 "nbformat_minor": 2
}
