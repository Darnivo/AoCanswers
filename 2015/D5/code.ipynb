{
 "cells": [
  {
   "cell_type": "markdown",
   "metadata": {},
   "source": [
    "# P1"
   ]
  },
  {
   "cell_type": "code",
   "execution_count": 2,
   "metadata": {},
   "outputs": [],
   "source": [
    "import re"
   ]
  },
  {
   "cell_type": "code",
   "execution_count": 15,
   "metadata": {},
   "outputs": [
    {
     "data": {
      "text/plain": [
       "258"
      ]
     },
     "execution_count": 15,
     "metadata": {},
     "output_type": "execute_result"
    }
   ],
   "source": [
    "res = []\n",
    "with open('input.txt', 'r') as file:\n",
    "    for line in file:\n",
    "        res.append(line.strip())\n",
    "        \n",
    "valid_sum = 0\n",
    "\n",
    "for words in res:\n",
    "    vowel_count = sum(words.count(vowel) for vowel in 'aeiou')\n",
    "    if vowel_count < 3:\n",
    "        continue\n",
    "        \n",
    "    if not re.search(r'([a-zA-Z])\\1', words):\n",
    "        continue\n",
    "    \n",
    "    if re.search(r'(ab|cd|pq|xy)', words):\n",
    "        continue\n",
    "    \n",
    "    valid_sum += 1\n",
    "    \n",
    "valid_sum"
   ]
  },
  {
   "cell_type": "markdown",
   "metadata": {},
   "source": [
    "# P2"
   ]
  },
  {
   "cell_type": "code",
   "execution_count": 14,
   "metadata": {},
   "outputs": [
    {
     "data": {
      "text/plain": [
       "53"
      ]
     },
     "execution_count": 14,
     "metadata": {},
     "output_type": "execute_result"
    }
   ],
   "source": [
    "valid_sum_p2 = 0\n",
    "\n",
    "for words in res:\n",
    "        \n",
    "    if not re.search(r'(..).*\\1', words):\n",
    "        continue\n",
    "    \n",
    "    if not re.search(r'(.).\\1', words):\n",
    "        continue\n",
    "    \n",
    "    valid_sum_p2 += 1\n",
    "    \n",
    "valid_sum_p2"
   ]
  }
 ],
 "metadata": {
  "kernelspec": {
   "display_name": "Python 3",
   "language": "python",
   "name": "python3"
  },
  "language_info": {
   "codemirror_mode": {
    "name": "ipython",
    "version": 3
   },
   "file_extension": ".py",
   "mimetype": "text/x-python",
   "name": "python",
   "nbconvert_exporter": "python",
   "pygments_lexer": "ipython3",
   "version": "3.12.0"
  }
 },
 "nbformat": 4,
 "nbformat_minor": 2
}
