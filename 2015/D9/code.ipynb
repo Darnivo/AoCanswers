{
 "cells": [
  {
   "cell_type": "markdown",
   "metadata": {},
   "source": [
    "# P1"
   ]
  },
  {
   "cell_type": "code",
   "execution_count": 14,
   "metadata": {},
   "outputs": [],
   "source": [
    "import itertools"
   ]
  },
  {
   "cell_type": "code",
   "execution_count": 31,
   "metadata": {},
   "outputs": [
    {
     "name": "stdout",
     "output_type": "stream",
     "text": [
      "141\n"
     ]
    }
   ],
   "source": [
    "location = {}\n",
    "\n",
    "with open('input.txt') as file:\n",
    "    for lines in file:\n",
    "        # print(lines)\n",
    "        \n",
    "        command = lines.split()\n",
    "        # print(command)\n",
    "        loc1, loc2, dist = command[0], command[2], int(command[4])\n",
    "        \n",
    "        if loc1 not in location:\n",
    "            location[loc1] = {}      \n",
    "        if loc2 not in location:\n",
    "            location[loc2] = {}\n",
    "                              \n",
    "        location[loc1][loc2] = dist\n",
    "        location[loc2][loc1] = dist\n",
    "\n",
    "        \n",
    "# for locs in location:\n",
    "    # print(locs, location[locs])\n",
    "    \n",
    "    \n",
    "shortest_distance = 999999999\n",
    "    \n",
    "for permutations in itertools.permutations(location.keys(), len(location)):\n",
    "    # print(permutations)\n",
    "    total_distance = 0\n",
    "    total_distance += sum(location[permutations[i]][permutations[i+1]] for i in range(len(permutations)-1))\n",
    "    \n",
    "    # print(' -> '.join(permutations), end=\": \")\n",
    "    # print (total_distance)\n",
    "    \n",
    "    if total_distance < shortest_distance:\n",
    "        shortest_distance = total_distance\n",
    "\n",
    "print(shortest_distance)"
   ]
  },
  {
   "cell_type": "markdown",
   "metadata": {},
   "source": [
    "# P2"
   ]
  },
  {
   "cell_type": "code",
   "execution_count": 30,
   "metadata": {},
   "outputs": [
    {
     "name": "stdout",
     "output_type": "stream",
     "text": [
      "736\n"
     ]
    }
   ],
   "source": [
    "location = {}\n",
    "\n",
    "with open('input.txt') as file:\n",
    "    for lines in file:\n",
    "        # print(lines)\n",
    "        \n",
    "        command = lines.split()\n",
    "        # print(command)\n",
    "        loc1, loc2, dist = command[0], command[2], int(command[4])\n",
    "        \n",
    "        if loc1 not in location:\n",
    "            location[loc1] = {}      \n",
    "        if loc2 not in location:\n",
    "            location[loc2] = {}\n",
    "                              \n",
    "        location[loc1][loc2] = dist\n",
    "        location[loc2][loc1] = dist\n",
    "\n",
    "        \n",
    "# for locs in location:\n",
    "    # print(locs, location[locs])\n",
    "    \n",
    "    \n",
    "longest_distance = 0\n",
    "    \n",
    "for permutations in itertools.permutations(location.keys(), len(location)):\n",
    "    # print(permutations)\n",
    "    total_distance = 0\n",
    "    total_distance += sum(location[permutations[i]][permutations[i+1]] for i in range(len(permutations)-1))\n",
    "    \n",
    "    # print(' -> '.join(permutations), end=\": \")\n",
    "    # print (total_distance)\n",
    "    \n",
    "    if total_distance > longest_distance:\n",
    "        longest_distance = total_distance\n",
    "\n",
    "print(longest_distance)"
   ]
  }
 ],
 "metadata": {
  "kernelspec": {
   "display_name": "Python 3",
   "language": "python",
   "name": "python3"
  },
  "language_info": {
   "codemirror_mode": {
    "name": "ipython",
    "version": 3
   },
   "file_extension": ".py",
   "mimetype": "text/x-python",
   "name": "python",
   "nbconvert_exporter": "python",
   "pygments_lexer": "ipython3",
   "version": "3.12.0"
  }
 },
 "nbformat": 4,
 "nbformat_minor": 2
}
