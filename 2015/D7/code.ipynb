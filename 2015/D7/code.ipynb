{
 "cells": [
  {
   "cell_type": "markdown",
   "metadata": {},
   "source": [
    "# P1"
   ]
  },
  {
   "cell_type": "code",
   "execution_count": 17,
   "metadata": {},
   "outputs": [
    {
     "name": "stdout",
     "output_type": "stream",
     "text": [
      "x = 123\n",
      "y = 456\n",
      "d = 72\n",
      "e = 507\n",
      "f = 492\n",
      "g = 114\n",
      "h = 65412\n",
      "i = 65079\n",
      "\n"
     ]
    }
   ],
   "source": [
    "x = 123\n",
    "y = 456 \n",
    "d = x & y\n",
    "e = x | y\n",
    "f = x<<2 & 0xFFFF \n",
    "g = y>>2\n",
    "h = ~x & 0xFFFF \n",
    "i = ~y & 0xFFFF \n",
    " \n",
    "print(f\"x = {x}\\ny = {y}\\nd = {d}\\ne = {e}\")\n",
    "print(f\"f = {f}\\ng = {g}\\nh = {h}\\ni = {i}\\n\")"
   ]
  },
  {
   "cell_type": "code",
   "execution_count": 18,
   "metadata": {},
   "outputs": [],
   "source": [
    "circuits = {}\n",
    "with open('input.txt', 'r') as file:\n",
    "    for line in file:\n",
    "        res = line.strip().split(sep= \" -> \")\n",
    "        \n",
    "        product = res[1]\n",
    "        rule = res[0].split(sep= \" \")\n",
    "        \n",
    "        # print(product,\"->\",rule,\"--\",len(rule))\n",
    "        \n",
    "        # defines a circuit, can be a var\n",
    "        if (len(rule) == 1):\n",
    "            if rule[0].isalpha():\n",
    "                circuits[product] = [{\"rule\":\"BASIC\"},{\"actualValue\":None},{\"value1\":rule[0]}]\n",
    "            else:\n",
    "                circuits[product] = [{\"rule\":\"BASIC\"},{\"actualValue\":int(rule[0])}]\n",
    "        \n",
    "        \n",
    "        # not some var\n",
    "        if (len(rule) == 2): # its always a circuit, not a value\n",
    "            circuits[product] = [{\"rule\":\"NOT\"},{\"actualValue\":None},{\"value1\":rule[1]}]\n",
    "        \n",
    "        \n",
    "        # bitwise ops, 2 vars\n",
    "        if (len(rule) == 3):\n",
    "            value1 = rule[0] if rule[0].isalpha() else int(rule[0])\n",
    "            value2 = rule[2] if rule[2].isalpha() else int(rule[2])\n",
    "            circuits[product] = [{\"rule\":rule[1]},{\"actualValue\":None},{\"value1\":value1},{\"value2\":value2}]\n",
    "    \n",
    "    # for circuit in circuits:\n",
    "    #     print(circuit, circuits[circuit])\n",
    "    \n",
    "    import copy\n",
    "    circuit_copy = copy.deepcopy(circuits)\n",
    "        \n",
    "    # Find value recursively\n",
    "    def get_value(code):\n",
    "        # print(code)\n",
    "        \n",
    "        if isinstance(code, int):\n",
    "            return code\n",
    "        \n",
    "        if circuits[code][1]['actualValue'] is not None:\n",
    "            # print(circuits[code][1]['actualValue'])\n",
    "            return circuits[code][1]['actualValue']\n",
    "        \n",
    "        rule = circuits[code][0]['rule']\n",
    "        \n",
    "        if rule == \"BASIC\":\n",
    "            value = get_value(circuits[code][2]['value1'])\n",
    "            circuits[code][1]['actualValue'] = value\n",
    "            return value\n",
    "        elif rule == \"NOT\":\n",
    "            value = get_value(circuits[code][2]['value1'])\n",
    "            circuits[code][1]['actualValue'] = ~value & 0xFFFF \n",
    "            return ~value & 0xFFFF \n",
    "        elif rule == \"AND\":\n",
    "            value1 = get_value(circuits[code][2]['value1'])\n",
    "            value2 = get_value(circuits[code][3]['value2'])\n",
    "            circuits[code][1]['actualValue'] = value1 & value2\n",
    "            return value1 & value2\n",
    "        elif rule == \"OR\":\n",
    "            value1 = get_value(circuits[code][2]['value1'])\n",
    "            value2 = get_value(circuits[code][3]['value2'])\n",
    "            circuits[code][1]['actualValue'] = value1 | value2\n",
    "            return value1 | value2\n",
    "        elif rule == \"LSHIFT\":\n",
    "            value1 = int(get_value(circuits[code][2]['value1']))\n",
    "            shift = circuits[code][3]['value2']\n",
    "            circuits[code][1]['actualValue'] = value1 << shift & 0xFFFF \n",
    "            return value1 << shift & 0xFFFF \n",
    "        elif rule == \"RSHIFT\":\n",
    "            value1 = get_value(circuits[code][2]['value1'])\n",
    "            shift = circuits[code][3]['value2']\n",
    "            circuits[code][1]['actualValue'] = value1 >> shift\n",
    "            return value1 >> shift\n",
    "        \n",
    "    for circuit in circuits:\n",
    "        get_value(circuit)\n",
    "    \n",
    "    # print(\"\\n\\n\")\n",
    "    # for circuit in circuits:\n",
    "    #     print(circuit, circuits[circuit])     "
   ]
  },
  {
   "cell_type": "code",
   "execution_count": 19,
   "metadata": {},
   "outputs": [
    {
     "name": "stdout",
     "output_type": "stream",
     "text": [
      "[{'rule': 'BASIC'}, {'actualValue': 16076}, {'value1': 'lx'}]\n"
     ]
    }
   ],
   "source": [
    "# print(circuits['d'])\n",
    "print(circuits['a'])"
   ]
  },
  {
   "cell_type": "markdown",
   "metadata": {},
   "source": [
    "# P2"
   ]
  },
  {
   "cell_type": "code",
   "execution_count": null,
   "metadata": {},
   "outputs": [],
   "source": [
    "circuits = {}\n",
    "with open('input.txt', 'r') as file:\n",
    "    for line in file:\n",
    "        res = line.strip().split(sep= \" -> \")\n",
    "        \n",
    "        product = res[1]\n",
    "        rule = res[0].split(sep= \" \")\n",
    "        \n",
    "        # print(product,\"->\",rule,\"--\",len(rule))\n",
    "        \n",
    "        # defines a circuit, can be a var\n",
    "        if (len(rule) == 1):\n",
    "            if rule[0].isalpha():\n",
    "                circuits[product] = [{\"rule\":\"BASIC\"},{\"actualValue\":None},{\"value1\":rule[0]}]\n",
    "            else:\n",
    "                circuits[product] = [{\"rule\":\"BASIC\"},{\"actualValue\":int(rule[0])}]\n",
    "        \n",
    "        \n",
    "        # not some var\n",
    "        if (len(rule) == 2): # its always a circuit, not a value\n",
    "            circuits[product] = [{\"rule\":\"NOT\"},{\"actualValue\":None},{\"value1\":rule[1]}]\n",
    "        \n",
    "        \n",
    "        # bitwise ops, 2 vars\n",
    "        if (len(rule) == 3):\n",
    "            value1 = rule[0] if rule[0].isalpha() else int(rule[0])\n",
    "            value2 = rule[2] if rule[2].isalpha() else int(rule[2])\n",
    "            circuits[product] = [{\"rule\":rule[1]},{\"actualValue\":None},{\"value1\":value1},{\"value2\":value2}]\n",
    "    \n",
    "    # for circuit in circuits:\n",
    "    #     print(circuit, circuits[circuit])\n",
    "    \n",
    "    \n",
    "    # Add this\n",
    "    circuits['b'][1]['actualValue'] = 16076\n",
    "    \n",
    "    import copy\n",
    "    circuit_copy = copy.deepcopy(circuits)\n",
    "        \n",
    "    # Find value recursively\n",
    "    def get_value(code):\n",
    "        # print(code)\n",
    "        \n",
    "        if isinstance(code, int):\n",
    "            return code\n",
    "        \n",
    "        if circuits[code][1]['actualValue'] is not None:\n",
    "            # print(circuits[code][1]['actualValue'])\n",
    "            return circuits[code][1]['actualValue']\n",
    "        \n",
    "        rule = circuits[code][0]['rule']\n",
    "        \n",
    "        if rule == \"BASIC\":\n",
    "            value = get_value(circuits[code][2]['value1'])\n",
    "            circuits[code][1]['actualValue'] = value\n",
    "            return value\n",
    "        elif rule == \"NOT\":\n",
    "            value = get_value(circuits[code][2]['value1'])\n",
    "            circuits[code][1]['actualValue'] = ~value & 0xFFFF \n",
    "            return ~value & 0xFFFF \n",
    "        elif rule == \"AND\":\n",
    "            value1 = get_value(circuits[code][2]['value1'])\n",
    "            value2 = get_value(circuits[code][3]['value2'])\n",
    "            circuits[code][1]['actualValue'] = value1 & value2\n",
    "            return value1 & value2\n",
    "        elif rule == \"OR\":\n",
    "            value1 = get_value(circuits[code][2]['value1'])\n",
    "            value2 = get_value(circuits[code][3]['value2'])\n",
    "            circuits[code][1]['actualValue'] = value1 | value2\n",
    "            return value1 | value2\n",
    "        elif rule == \"LSHIFT\":\n",
    "            value1 = int(get_value(circuits[code][2]['value1']))\n",
    "            shift = circuits[code][3]['value2']\n",
    "            circuits[code][1]['actualValue'] = value1 << shift & 0xFFFF \n",
    "            return value1 << shift & 0xFFFF \n",
    "        elif rule == \"RSHIFT\":\n",
    "            value1 = get_value(circuits[code][2]['value1'])\n",
    "            shift = circuits[code][3]['value2']\n",
    "            circuits[code][1]['actualValue'] = value1 >> shift\n",
    "            return value1 >> shift\n",
    "        \n",
    "    for circuit in circuits:\n",
    "        get_value(circuit)\n",
    "    \n",
    "    # print(\"\\n\\n\")\n",
    "    # for circuit in circuits:\n",
    "    #     print(circuit, circuits[circuit])     "
   ]
  },
  {
   "cell_type": "code",
   "execution_count": 30,
   "metadata": {},
   "outputs": [
    {
     "name": "stdout",
     "output_type": "stream",
     "text": [
      "[{'rule': 'BASIC'}, {'actualValue': 2797}, {'value1': 'lx'}]\n"
     ]
    }
   ],
   "source": [
    "print(circuits['a'])"
   ]
  }
 ],
 "metadata": {
  "kernelspec": {
   "display_name": "Python 3",
   "language": "python",
   "name": "python3"
  },
  "language_info": {
   "codemirror_mode": {
    "name": "ipython",
    "version": 3
   },
   "file_extension": ".py",
   "mimetype": "text/x-python",
   "name": "python",
   "nbconvert_exporter": "python",
   "pygments_lexer": "ipython3",
   "version": "3.12.0"
  }
 },
 "nbformat": 4,
 "nbformat_minor": 2
}
