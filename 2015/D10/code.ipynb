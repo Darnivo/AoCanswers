{
 "cells": [
  {
   "cell_type": "markdown",
   "metadata": {},
   "source": [
    "# P1"
   ]
  },
  {
   "cell_type": "code",
   "execution_count": 2,
   "metadata": {},
   "outputs": [],
   "source": [
    "import re"
   ]
  },
  {
   "cell_type": "code",
   "execution_count": null,
   "metadata": {},
   "outputs": [
    {
     "name": "stdout",
     "output_type": "stream",
     "text": [
      "360154\n"
     ]
    }
   ],
   "source": [
    "original_string = \"INSERT_INPUT_HERE\"\n",
    "iter_num = 40\n",
    "# result = re.findall(r'(.)\\1*', original_string)\n",
    "string = original_string\n",
    "\n",
    "# print(0,string)\n",
    "\n",
    "for i in range(iter_num): \n",
    "    result = [match.group(0) for match in re.finditer(r'(.)\\1*', string)]\n",
    "    newstring = \"\"\n",
    "    for res in result:\n",
    "        newstring += str(len(res)) + res[0]\n",
    "    string = newstring\n",
    "    # print(i+1,string)\n",
    "\n",
    "# for all in re.finditer(r'(.)\\1*', original_string):\n",
    "    # print(all.group(0))\n",
    "\n",
    "# print(result)\n",
    "print(len(string))"
   ]
  },
  {
   "cell_type": "markdown",
   "metadata": {},
   "source": [
    "# P2"
   ]
  },
  {
   "cell_type": "code",
   "execution_count": 46,
   "metadata": {},
   "outputs": [],
   "source": [
    "from itertools import groupby"
   ]
  },
  {
   "cell_type": "code",
   "execution_count": null,
   "metadata": {},
   "outputs": [
    {
     "name": "stdout",
     "output_type": "stream",
     "text": [
      "5103798\n"
     ]
    }
   ],
   "source": [
    "iter_num = 50\n",
    "\n",
    "string = original_string\n",
    "\n",
    "# print(0,string)\n",
    "\n",
    "for i in range(iter_num): \n",
    "    string = ''.join([str(len(list(g))) + k for k, g in groupby(string)])\n",
    "    # print(i+1,string)\n",
    "print(len(string))"
   ]
  }
 ],
 "metadata": {
  "kernelspec": {
   "display_name": "Python 3",
   "language": "python",
   "name": "python3"
  },
  "language_info": {
   "codemirror_mode": {
    "name": "ipython",
    "version": 3
   },
   "file_extension": ".py",
   "mimetype": "text/x-python",
   "name": "python",
   "nbconvert_exporter": "python",
   "pygments_lexer": "ipython3",
   "version": "3.12.0"
  }
 },
 "nbformat": 4,
 "nbformat_minor": 2
}
