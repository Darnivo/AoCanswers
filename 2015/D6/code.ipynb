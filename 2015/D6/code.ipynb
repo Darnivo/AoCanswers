{
 "cells": [
  {
   "cell_type": "markdown",
   "metadata": {},
   "source": [
    "# P1"
   ]
  },
  {
   "cell_type": "code",
   "execution_count": 15,
   "metadata": {},
   "outputs": [],
   "source": [
    "import re"
   ]
  },
  {
   "cell_type": "code",
   "execution_count": 28,
   "metadata": {},
   "outputs": [
    {
     "data": {
      "text/plain": [
       "377891"
      ]
     },
     "execution_count": 28,
     "metadata": {},
     "output_type": "execute_result"
    }
   ],
   "source": [
    "grid = [[0 for _ in range(1000)] for _ in range(1000)]\n",
    "\n",
    "with open('input.txt', 'r') as file:\n",
    "    for line in file:\n",
    "        # print(line.strip())\n",
    "        \n",
    "        locs = re.findall(r'(\\d{1,3},\\d{1,3})', line)\n",
    "        # print(locs)\n",
    "        pos = [list(map(int, loc.split(','))) for loc in locs]\n",
    "        # print(pos)\n",
    "        \n",
    "        if line.startswith(\"turn on\"):\n",
    "            for x in range(pos[0][0], pos[1][0]+1):\n",
    "                for y in range(pos[0][1], pos[1][1]+1):\n",
    "                    grid[x][y] = 1\n",
    "        elif line.startswith(\"turn off\"):\n",
    "            for x in range(pos[0][0], pos[1][0]+1):\n",
    "                for y in range(pos[0][1], pos[1][1]+1):\n",
    "                    grid[x][y] = 0\n",
    "        elif line.startswith(\"toggle\"):\n",
    "            for x in range(pos[0][0], pos[1][0]+1):\n",
    "                for y in range(pos[0][1], pos[1][1]+1):\n",
    "                    grid[x][y] = 1 - grid[x][y]\n",
    "                    \n",
    "sum = 0\n",
    "for x in range(1000):\n",
    "    for y in range(1000):\n",
    "        sum += grid[x][y]\n",
    "        \n",
    "sum "
   ]
  },
  {
   "cell_type": "markdown",
   "metadata": {},
   "source": [
    "# P2"
   ]
  },
  {
   "cell_type": "code",
   "execution_count": 30,
   "metadata": {},
   "outputs": [
    {
     "data": {
      "text/plain": [
       "14110788"
      ]
     },
     "execution_count": 30,
     "metadata": {},
     "output_type": "execute_result"
    }
   ],
   "source": [
    "grid_p2 = [[0 for _ in range(1000)] for _ in range(1000)]\n",
    "\n",
    "with open('input.txt', 'r') as file:\n",
    "    for line in file:\n",
    "        # print(line.strip())\n",
    "        \n",
    "        locs = re.findall(r'(\\d{1,3},\\d{1,3})', line)\n",
    "        # print(locs)\n",
    "        pos = [list(map(int, loc.split(','))) for loc in locs]\n",
    "        # print(pos)\n",
    "        \n",
    "        if line.startswith(\"turn on\"):\n",
    "            for x in range(pos[0][0], pos[1][0]+1):\n",
    "                for y in range(pos[0][1], pos[1][1]+1):\n",
    "                    grid_p2[x][y] += 1\n",
    "        elif line.startswith(\"turn off\"):\n",
    "            for x in range(pos[0][0], pos[1][0]+1):\n",
    "                for y in range(pos[0][1], pos[1][1]+1):\n",
    "                    grid_p2[x][y] -= 1\n",
    "                    if grid_p2[x][y] < 0:\n",
    "                        grid_p2[x][y] = 0\n",
    "        elif line.startswith(\"toggle\"):\n",
    "            for x in range(pos[0][0], pos[1][0]+1):\n",
    "                for y in range(pos[0][1], pos[1][1]+1):\n",
    "                    grid_p2[x][y] += 2\n",
    "                    \n",
    "sum_p2 = 0\n",
    "for x in range(1000):\n",
    "    for y in range(1000):\n",
    "        sum_p2 += grid_p2[x][y]\n",
    "   \n",
    "sum_p2"
   ]
  }
 ],
 "metadata": {
  "kernelspec": {
   "display_name": "Python 3",
   "language": "python",
   "name": "python3"
  },
  "language_info": {
   "codemirror_mode": {
    "name": "ipython",
    "version": 3
   },
   "file_extension": ".py",
   "mimetype": "text/x-python",
   "name": "python",
   "nbconvert_exporter": "python",
   "pygments_lexer": "ipython3",
   "version": "3.12.0"
  }
 },
 "nbformat": 4,
 "nbformat_minor": 2
}
